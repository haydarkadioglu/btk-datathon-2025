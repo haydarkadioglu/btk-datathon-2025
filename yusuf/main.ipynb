{
 "cells": [
  {
   "cell_type": "markdown",
   "id": "f60426a8",
   "metadata": {},
   "source": [
    "# BTK DATATHON-2025"
   ]
  },
  {
   "cell_type": "code",
   "execution_count": null,
   "id": "e5a82723",
   "metadata": {},
   "outputs": [],
   "source": [
    "import pandas as pd\n",
    "import numpy as np\n",
    "from sklearn.model_selection import train_test_split\n",
    "from sklearn.preprocessing import StandardScaler, OneHotEncoder, LabelEncoder\n",
    "from sklearn.ensemble import RandomForestRegressor\n",
    "\n",
    "from sklearn.metrics import mean_squared_error, r2_score"
   ]
  },
  {
   "cell_type": "code",
   "execution_count": null,
   "id": "16f22ad3",
   "metadata": {},
   "outputs": [],
   "source": [
    "df_train = pd.read_csv(r\"C:\\Users\\yusuf\\OneDrive\\Masaüstü\\btk25\\data\\train.csv\")\n",
    "df_test = pd.read_csv(r\"C:\\Users\\yusuf\\OneDrive\\Masaüstü\\btk25\\data\\test.csv\")\n",
    "df_submission = pd.read_csv(r\"C:\\Users\\yusuf\\OneDrive\\Masaüstü\\btk25\\data\\sample_submission.csv\")"
   ]
  },
  {
   "cell_type": "code",
   "execution_count": null,
   "id": "03f5454e",
   "metadata": {},
   "outputs": [],
   "source": [
    "df_train"
   ]
  },
  {
   "cell_type": "code",
   "execution_count": null,
   "id": "08aff66d",
   "metadata": {},
   "outputs": [],
   "source": [
    "df_train.info()"
   ]
  },
  {
   "cell_type": "code",
   "execution_count": null,
   "id": "b5001047",
   "metadata": {},
   "outputs": [],
   "source": [
    "df_train.describe()"
   ]
  },
  {
   "cell_type": "code",
   "execution_count": null,
   "id": "74d63097",
   "metadata": {},
   "outputs": [],
   "source": [
    "df_train[\"user_id\"].unique()"
   ]
  },
  {
   "cell_type": "markdown",
   "id": "51034688",
   "metadata": {},
   "source": [
    "## Feature Enginering"
   ]
  },
  {
   "cell_type": "code",
   "execution_count": null,
   "id": "837e1de1",
   "metadata": {},
   "outputs": [],
   "source": [
    "def preprocess_df(df):\n",
    "    \"\"\"\n",
    "    Verilen dataframe üzerinde aşağıdaki işlemleri yapar:\n",
    "    1. event_time → day_type, time_of_day (manuel mapping ile sayısal)\n",
    "    2. event_type → manuel mapping\n",
    "    3. product_id, category_id, user_id, user_session → Label Encoding\n",
    "    4. Orijinal event_time sütunu silinir\n",
    "    \"\"\"\n",
    "    df = df.copy()\n",
    "    \n",
    "    # 1️⃣ Event time feature engineering\n",
    "    df['event_time'] = pd.to_datetime(df['event_time'])\n",
    "    \n",
    "    # Weekday / Weekend\n",
    "    df['day_type'] = df['event_time'].dt.weekday.apply(lambda x: 'Weekend' if x >= 5 else 'Weekday')\n",
    "    # Manuel mapping: Weekday=0, Weekend=1\n",
    "    day_type_mapping = {'Weekday': 0, 'Weekend': 1}\n",
    "    df['day_type'] = df['day_type'].map(day_type_mapping)\n",
    "    \n",
    "    # Saat dilimi\n",
    "    def get_time_of_day(hour):\n",
    "        if 5 <= hour < 12:\n",
    "            return 'Morning'\n",
    "        elif 12 <= hour < 17:\n",
    "            return 'Afternoon'\n",
    "        elif 17 <= hour < 21:\n",
    "            return 'Evening'\n",
    "        else:\n",
    "            return 'Night'\n",
    "    \n",
    "    df['time_of_day'] = df['event_time'].dt.hour.apply(get_time_of_day)\n",
    "    # Manuel mapping: Morning=0, Afternoon=1, Evening=2, Night=3\n",
    "    time_mapping = {'Morning': 0, 'Afternoon': 1, 'Evening': 2, 'Night': 3}\n",
    "    df['time_of_day'] = df['time_of_day'].map(time_mapping)\n",
    "    \n",
    "    # Orijinal event_time sütunu sil\n",
    "    df = df.drop(columns=['event_time'])\n",
    "    \n",
    "    # 2️⃣ event_type manuel mapping\n",
    "    event_type_mapping = {\n",
    "        'ADD_CART': 0,\n",
    "        'VIEW': 1,\n",
    "        'REMOVE_CART': 2,\n",
    "        'BUY': 3\n",
    "    }\n",
    "    df['event_type'] = df['event_type'].map(event_type_mapping)\n",
    "    \n",
    "    # 3️⃣ Label Encoding diğer kategorik sütunlar\n",
    "    le_cols = ['product_id', 'category_id', 'user_id']\n",
    "    for col in le_cols:\n",
    "        le = LabelEncoder()\n",
    "        df[col] = le.fit_transform(df[col])\n",
    "    \n",
    "    return df"
   ]
  },
  {
   "cell_type": "code",
   "execution_count": null,
   "id": "e329efed",
   "metadata": {},
   "outputs": [],
   "source": [
    "df_train_processed = preprocess_df(df_train)\n",
    "df_test_processed = preprocess_df(df_test)"
   ]
  },
  {
   "cell_type": "code",
   "execution_count": null,
   "id": "b150872a",
   "metadata": {},
   "outputs": [],
   "source": [
    "df_train_processed"
   ]
  },
  {
   "cell_type": "markdown",
   "id": "f1eb9b48",
   "metadata": {},
   "source": [
    "### Model Hazırlık"
   ]
  },
  {
   "cell_type": "code",
   "execution_count": null,
   "id": "466eb501",
   "metadata": {},
   "outputs": [],
   "source": [
    "X = df_train_processed.drop(columns=['user_session','session_value'])\n",
    "y = df_train_processed['session_value']"
   ]
  },
  {
   "cell_type": "code",
   "execution_count": null,
   "id": "a5a760b3",
   "metadata": {},
   "outputs": [],
   "source": [
    "from sklearn.model_selection import KFold, cross_val_score, RandomizedSearchCV\n",
    "from sklearn.ensemble import RandomForestRegressor\n",
    "import numpy as np\n",
    "import joblib\n",
    "\n",
    "# K-Fold\n",
    "kf = KFold(n_splits=5, shuffle=True, random_state=42)\n",
    "\n",
    "# Baseline CV\n",
    "model = RandomForestRegressor(random_state=42, n_jobs=-1)\n",
    "scores = cross_val_score(model, X, y, cv=kf, scoring=\"neg_root_mean_squared_error\", n_jobs=-1)\n",
    "rmse_scores = -scores\n",
    "print(f\"CV RMSE: mean = {rmse_scores.mean():.5f}, std = {rmse_scores.std():.5f}\")\n",
    "\n",
    "# Hyperparam search space\n",
    "param_dist = {\n",
    "    'n_estimators': [100, 200],\n",
    "    'max_depth': [None, 10],\n",
    "    'min_samples_split': [2, 5],\n",
    "    'min_samples_leaf': [1, 2],\n",
    "    'max_features': ['sqrt', 'log2']\n",
    "}\n",
    "\n",
    "# RandomizedSearchCV (konsistent CV kullanıyoruz)\n",
    "search = RandomizedSearchCV(\n",
    "    estimator=model,\n",
    "    param_distributions=param_dist,\n",
    "    n_iter=20,\n",
    "    scoring=\"neg_root_mean_squared_error\",\n",
    "    cv=kf,\n",
    "    random_state=42,\n",
    "    n_jobs=-1,\n",
    "    verbose=2,\n",
    "    return_train_score=True\n",
    ")\n",
    "\n",
    "search.fit(X, y)\n",
    "\n",
    "print(\"Best Params:\", search.best_params_)\n",
    "# DOĞRU: best_score_ zaten 'neg_root_mean_squared_error' -> negatif RMSE\n",
    "print(\"Best RMSE (CV):\", -search.best_score_)\n",
    "\n",
    "# İstersen en iyi estimator'u tekrar CV ile doğrula\n",
    "best = search.best_estimator_\n",
    "scores_best = cross_val_score(best, X, y, cv=kf, scoring=\"neg_root_mean_squared_error\", n_jobs=-1)\n",
    "print(f\"Best estimator CV RMSE: mean = {(-scores_best).mean():.5f}, std = {(-scores_best).std():.5f}\")\n",
    "\n",
    "# Kaydet\n",
    "joblib.dump(best, \"rf_best.pkl\")\n"
   ]
  }
 ],
 "metadata": {
  "kernelspec": {
   "display_name": "deepLearning",
   "language": "python",
   "name": "python3"
  },
  "language_info": {
   "codemirror_mode": {
    "name": "ipython",
    "version": 3
   },
   "file_extension": ".py",
   "mimetype": "text/x-python",
   "name": "python",
   "nbconvert_exporter": "python",
   "pygments_lexer": "ipython3",
   "version": "3.12.9"
  }
 },
 "nbformat": 4,
 "nbformat_minor": 5
}
