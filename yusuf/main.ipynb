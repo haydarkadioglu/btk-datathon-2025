{
 "cells": [
  {
   "cell_type": "markdown",
   "id": "f60426a8",
   "metadata": {},
   "source": [
    "# BTK DATATHON-2025"
   ]
  },
  {
   "cell_type": "code",
   "execution_count": null,
   "id": "e5a82723",
   "metadata": {},
   "outputs": [],
   "source": [
    "import pandas as pd\n",
    "import numpy as np\n",
    "import matplotlib.pyplot as plt\n",
    "import seaborn as sns\n",
    "from sklearn.model_selection import train_test_split\n",
    "from sklearn.preprocessing import StandardScaler, OneHotEncoder, LabelEncoder\n",
    "from sklearn.ensemble import RandomForestRegressor\n",
    "\n",
    "from sklearn.metrics import mean_squared_error, r2_score"
   ]
  },
  {
   "cell_type": "code",
   "execution_count": null,
   "id": "16f22ad3",
   "metadata": {},
   "outputs": [],
   "source": [
    "df_train = pd.read_csv(r\"C:\\Users\\yusuf\\OneDrive\\Masaüstü\\btk25\\data\\train.csv\")\n",
    "df_test = pd.read_csv(r\"C:\\Users\\yusuf\\OneDrive\\Masaüstü\\btk25\\data\\test.csv\")\n",
    "df_submission = pd.read_csv(r\"C:\\Users\\yusuf\\OneDrive\\Masaüstü\\btk25\\data\\sample_submission.csv\")"
   ]
  },
  {
   "cell_type": "code",
   "execution_count": null,
   "id": "03f5454e",
   "metadata": {},
   "outputs": [],
   "source": [
    "df_train"
   ]
  },
  {
   "cell_type": "code",
   "execution_count": null,
   "id": "08aff66d",
   "metadata": {},
   "outputs": [],
   "source": [
    "df_train.info()"
   ]
  },
  {
   "cell_type": "code",
   "execution_count": null,
   "id": "b5001047",
   "metadata": {},
   "outputs": [],
   "source": [
    "df_train.describe()"
   ]
  },
  {
   "cell_type": "code",
   "execution_count": null,
   "id": "74d63097",
   "metadata": {},
   "outputs": [],
   "source": [
    "df_train[\"user_id\"].unique()"
   ]
  },
  {
   "cell_type": "markdown",
   "id": "51034688",
   "metadata": {},
   "source": [
    "## Feature Enginering"
   ]
  },
  {
   "cell_type": "code",
   "execution_count": null,
   "id": "837e1de1",
   "metadata": {},
   "outputs": [],
   "source": [
    "def preprocess_df(df):\n",
    "    \"\"\"\n",
    "    Güvenli preprocess fonksiyonu. \n",
    "    encoders: dict, önceden fit edilmiş LabelEncoder'lar\n",
    "    fit_encoders=True ise yeni encoder fit edilir\n",
    "    \"\"\"\n",
    "    df = df.copy()\n",
    "    \n",
    "    # 1️⃣ Event time\n",
    "    df['event_time'] = pd.to_datetime(df['event_time'])\n",
    "    df['day_type'] = df['event_time'].dt.weekday.apply(lambda x: 0 if x < 5 else 1)\n",
    "    \n",
    "    def get_time_of_day(hour):\n",
    "        if 5 <= hour < 12:\n",
    "            return 0\n",
    "        elif 12 <= hour < 17:\n",
    "            return 1\n",
    "        elif 17 <= hour < 21:\n",
    "            return 2\n",
    "        else:\n",
    "            return 3\n",
    "    df['time_of_day'] = df['event_time'].dt.hour.apply(get_time_of_day)\n",
    "    df = df.drop(columns=['event_time'])\n",
    "    \n",
    "    # 2️⃣ event_type mapping\n",
    "    event_type_mapping = {'ADD_CART':0,'VIEW':1,'REMOVE_CART':2,'BUY':3}\n",
    "    df['event_type'] = df['event_type'].map(event_type_mapping)\n",
    "    \n",
    "    df['product_id'] = df['product_id'].str.split('_').str[1]\n",
    "    df['category_id'] = df['category_id'].str.split('_').str[1]\n",
    "    df['user_id'] = df['user_id'].str.split('_').str[1]\n",
    "\n",
    "    return df\n"
   ]
  },
  {
   "cell_type": "code",
   "execution_count": null,
   "id": "e329efed",
   "metadata": {},
   "outputs": [],
   "source": [
    "# 1️⃣ Train set’i preprocess et ve encoder’ları al\n",
    "df_train_processed = preprocess_df(df_train)\n",
    "\n",
    "# 2️⃣ Test set’i aynı encoder’larla preprocess et\n",
    "df_test_processed = preprocess_df(df_test)\n"
   ]
  },
  {
   "cell_type": "code",
   "execution_count": null,
   "id": "b150872a",
   "metadata": {},
   "outputs": [],
   "source": [
    "df_train_processed"
   ]
  },
  {
   "cell_type": "markdown",
   "id": "f1eb9b48",
   "metadata": {},
   "source": [
    "### Model Hazırlık"
   ]
  },
  {
   "cell_type": "code",
   "execution_count": null,
   "id": "466eb501",
   "metadata": {},
   "outputs": [],
   "source": [
    "X = df_train_processed.drop(columns=['user_session','session_value'])\n",
    "y = df_train_processed['session_value']"
   ]
  },
  {
   "cell_type": "code",
   "execution_count": null,
   "id": "a5a760b3",
   "metadata": {},
   "outputs": [],
   "source": [
    "# Split the data into training and testing sets\n",
    "X_train, X_test, y_train, y_test = train_test_split(X, y, test_size=0.2, random_state=42)"
   ]
  },
  {
   "cell_type": "code",
   "execution_count": null,
   "id": "bee3b174",
   "metadata": {},
   "outputs": [],
   "source": [
    "# Convert string IDs to integers\n",
    "df_train_processed['product_id'] = df_train_processed['product_id'].astype(int)\n",
    "df_train_processed['category_id'] = df_train_processed['category_id'].astype(int)\n",
    "df_train_processed['user_id'] = df_train_processed['user_id'].astype(int)"
   ]
  },
  {
   "cell_type": "code",
   "execution_count": null,
   "id": "b4960870",
   "metadata": {},
   "outputs": [],
   "source": [
    "df_train_processed.info()"
   ]
  },
  {
   "cell_type": "code",
   "execution_count": null,
   "id": "c12d89b7",
   "metadata": {},
   "outputs": [],
   "source": [
    "RandomForestRegressor()"
   ]
  },
  {
   "cell_type": "code",
   "execution_count": null,
   "id": "9ba55b90",
   "metadata": {},
   "outputs": [],
   "source": [
    "from sklearn.model_selection import RandomizedSearchCV"
   ]
  },
  {
   "cell_type": "code",
   "execution_count": null,
   "id": "e42964f5",
   "metadata": {},
   "outputs": [],
   "source": [
    "n_estimators = [int(x) for x in np.linspace(start = 100, stop = 1200, num = 12)]\n",
    "print(n_estimators)"
   ]
  },
  {
   "cell_type": "code",
   "execution_count": null,
   "id": "0902ae44",
   "metadata": {},
   "outputs": [],
   "source": [
    " #Randomized Search CV\n",
    "\n",
    "# Number of trees in random forest\n",
    "n_estimators = [int(x) for x in np.linspace(start = 100, stop = 1200, num = 12)]\n",
    "# Number of features to consider at every split\n",
    "max_features = ['auto', 'sqrt']\n",
    "# Maximum number of levels in tree\n",
    "max_depth = [int(x) for x in np.linspace(5, 30, num = 6)]\n",
    "# max_depth.append(None)\n",
    "# Minimum number of samples required to split a node\n",
    "min_samples_split = [2, 5, 10, 15, 100]\n",
    "# Minimum number of samples required at each leaf node\n",
    "min_samples_leaf = [1, 2, 5, 10]\n",
    "# Method of selecting samples for training each tree\n",
    "# bootstrap = [True, False]"
   ]
  },
  {
   "cell_type": "code",
   "execution_count": null,
   "id": "c925e43c",
   "metadata": {},
   "outputs": [],
   "source": [
    "# Create the random grid\n",
    "random_grid = {'n_estimators': n_estimators,\n",
    "               'max_features': max_features,\n",
    "               'max_depth': max_depth,\n",
    "               'min_samples_split': min_samples_split,\n",
    "               'min_samples_leaf': min_samples_leaf}\n",
    "\n",
    "print(random_grid)"
   ]
  },
  {
   "cell_type": "code",
   "execution_count": null,
   "id": "7f3174df",
   "metadata": {},
   "outputs": [],
   "source": [
    "# Use the random grid to search for best hyperparameters\n",
    "# First create the base model to tune\n",
    "rf = RandomForestRegressor()"
   ]
  },
  {
   "cell_type": "code",
   "execution_count": null,
   "id": "b504e2c9",
   "metadata": {},
   "outputs": [],
   "source": [
    "# Random search of parameters, using 3 fold cross validation, \n",
    "# search across 100 different combinations\n",
    "rf_random = RandomizedSearchCV(estimator = rf, param_distributions = random_grid,scoring='neg_mean_squared_error', n_iter = 100, cv = 5, verbose=2, random_state=42, n_jobs = 1)"
   ]
  },
  {
   "cell_type": "code",
   "execution_count": null,
   "id": "2f7772f7",
   "metadata": {},
   "outputs": [],
   "source": [
    "rf_random.fit(X_train,y_train)"
   ]
  },
  {
   "cell_type": "code",
   "execution_count": null,
   "id": "08a80862",
   "metadata": {},
   "outputs": [],
   "source": [
    "rf_random.best_params_"
   ]
  },
  {
   "cell_type": "code",
   "execution_count": null,
   "id": "3604c35f",
   "metadata": {},
   "outputs": [],
   "source": [
    "rf_random.best_score_"
   ]
  },
  {
   "cell_type": "code",
   "execution_count": null,
   "id": "f91d4e8e",
   "metadata": {},
   "outputs": [],
   "source": [
    "predictions=rf_random.predict(X_test)"
   ]
  },
  {
   "cell_type": "code",
   "execution_count": null,
   "id": "3697a5a2",
   "metadata": {},
   "outputs": [],
   "source": [
    "sns.distplot(y_test-predictions)"
   ]
  },
  {
   "cell_type": "code",
   "execution_count": null,
   "id": "b0336f63",
   "metadata": {},
   "outputs": [],
   "source": [
    "plt.scatter(y_test,prediction)"
   ]
  },
  {
   "cell_type": "code",
   "execution_count": null,
   "id": "9364f32f",
   "metadata": {},
   "outputs": [],
   "source": [
    "print('MAE:', metrics.mean_absolute_error(y_test, predictions))\n",
    "print('MSE:', metrics.mean_squared_error(y_test, predictions))\n",
    "print('RMSE:', np.sqrt(metrics.mean_squared_error(y_test, predictions)))"
   ]
  },
  {
   "cell_type": "code",
   "execution_count": null,
   "id": "6410411f",
   "metadata": {},
   "outputs": [],
   "source": [
    "from sklearn import metrics"
   ]
  },
  {
   "cell_type": "code",
   "execution_count": null,
   "id": "9177fa7f",
   "metadata": {},
   "outputs": [],
   "source": [
    "print('MAE:', metrics.mean_absolute_error(y_test, prediction))\n",
    "print('MSE:', metrics.mean_squared_error(y_test, prediction))\n",
    "print('RMSE:', np.sqrt(metrics.mean_squared_error(y_test, prediction)))"
   ]
  }
 ],
 "metadata": {
  "kernelspec": {
   "display_name": "deepLearning",
   "language": "python",
   "name": "python3"
  },
  "language_info": {
   "codemirror_mode": {
    "name": "ipython",
    "version": 3
   },
   "file_extension": ".py",
   "mimetype": "text/x-python",
   "name": "python",
   "nbconvert_exporter": "python",
   "pygments_lexer": "ipython3",
   "version": "3.12.9"
  }
 },
 "nbformat": 4,
 "nbformat_minor": 5
}
