{
 "cells": [
  {
   "cell_type": "markdown",
   "id": "f60426a8",
   "metadata": {},
   "source": [
    "# BTK DATATHON-2025"
   ]
  },
  {
   "cell_type": "code",
   "execution_count": null,
   "id": "e5a82723",
   "metadata": {},
   "outputs": [],
   "source": [
    "import pandas as pd\n",
    "import numpy as np\n",
    "from sklearn.model_selection import train_test_split\n",
    "from sklearn.preprocessing import StandardScaler, OneHotEncoder, LabelEncoder\n",
    "from sklearn.ensemble import RandomForestRegressor\n",
    "from sklearn.metrics import mean_squared_error, r2_score"
   ]
  },
  {
   "cell_type": "code",
   "execution_count": null,
   "id": "16f22ad3",
   "metadata": {},
   "outputs": [],
   "source": [
    "df_train = pd.read_csv(r\"C:\\Users\\yusuf\\OneDrive\\Masaüstü\\btk25\\data\\train.csv\")\n",
    "df_test = pd.read_csv(r\"C:\\Users\\yusuf\\OneDrive\\Masaüstü\\btk25\\data\\test.csv\")\n",
    "df_submission = pd.read_csv(r\"C:\\Users\\yusuf\\OneDrive\\Masaüstü\\btk25\\data\\sample_submission.csv\")"
   ]
  },
  {
   "cell_type": "code",
   "execution_count": null,
   "id": "03f5454e",
   "metadata": {},
   "outputs": [],
   "source": [
    "df_train"
   ]
  },
  {
   "cell_type": "code",
   "execution_count": null,
   "id": "08aff66d",
   "metadata": {},
   "outputs": [],
   "source": [
    "df_train.info()"
   ]
  },
  {
   "cell_type": "code",
   "execution_count": null,
   "id": "b5001047",
   "metadata": {},
   "outputs": [],
   "source": [
    "df_train.describe()"
   ]
  },
  {
   "cell_type": "code",
   "execution_count": null,
   "id": "74d63097",
   "metadata": {},
   "outputs": [],
   "source": [
    "df_train[\"user_id\"].unique()"
   ]
  },
  {
   "cell_type": "markdown",
   "id": "51034688",
   "metadata": {},
   "source": [
    "## Feature Enginering"
   ]
  },
  {
   "cell_type": "code",
   "execution_count": null,
   "id": "837e1de1",
   "metadata": {},
   "outputs": [],
   "source": [
    "def preprocess_df(df):\n",
    "    \"\"\"\n",
    "    Verilen dataframe üzerinde aşağıdaki işlemleri yapar:\n",
    "    1. event_time → day_type, time_of_day (manuel mapping ile sayısal)\n",
    "    2. event_type → manuel mapping\n",
    "    3. product_id, category_id, user_id, user_session → Label Encoding\n",
    "    4. Orijinal event_time sütunu silinir\n",
    "    \"\"\"\n",
    "    df = df.copy()\n",
    "    \n",
    "    # 1️⃣ Event time feature engineering\n",
    "    df['event_time'] = pd.to_datetime(df['event_time'])\n",
    "    \n",
    "    # Weekday / Weekend\n",
    "    df['day_type'] = df['event_time'].dt.weekday.apply(lambda x: 'Weekend' if x >= 5 else 'Weekday')\n",
    "    # Manuel mapping: Weekday=0, Weekend=1\n",
    "    day_type_mapping = {'Weekday': 0, 'Weekend': 1}\n",
    "    df['day_type'] = df['day_type'].map(day_type_mapping)\n",
    "    \n",
    "    # Saat dilimi\n",
    "    def get_time_of_day(hour):\n",
    "        if 5 <= hour < 12:\n",
    "            return 'Morning'\n",
    "        elif 12 <= hour < 17:\n",
    "            return 'Afternoon'\n",
    "        elif 17 <= hour < 21:\n",
    "            return 'Evening'\n",
    "        else:\n",
    "            return 'Night'\n",
    "    \n",
    "    df['time_of_day'] = df['event_time'].dt.hour.apply(get_time_of_day)\n",
    "    # Manuel mapping: Morning=0, Afternoon=1, Evening=2, Night=3\n",
    "    time_mapping = {'Morning': 0, 'Afternoon': 1, 'Evening': 2, 'Night': 3}\n",
    "    df['time_of_day'] = df['time_of_day'].map(time_mapping)\n",
    "    \n",
    "    # Orijinal event_time sütunu sil\n",
    "    df = df.drop(columns=['event_time'])\n",
    "    \n",
    "    # 2️⃣ event_type manuel mapping\n",
    "    event_type_mapping = {\n",
    "        'ADD_CART': 0,\n",
    "        'VIEW': 1,\n",
    "        'REMOVE_CART': 2,\n",
    "        'BUY': 3\n",
    "    }\n",
    "    df['event_type'] = df['event_type'].map(event_type_mapping)\n",
    "    \n",
    "    # 3️⃣ Label Encoding diğer kategorik sütunlar\n",
    "    le_cols = ['product_id', 'category_id', 'user_id']\n",
    "    for col in le_cols:\n",
    "        le = LabelEncoder()\n",
    "        df[col] = le.fit_transform(df[col])\n",
    "    \n",
    "    return df"
   ]
  },
  {
   "cell_type": "code",
   "execution_count": null,
   "id": "e329efed",
   "metadata": {},
   "outputs": [],
   "source": [
    "df_train_processed = preprocess_df(df_train)\n",
    "df_test_processed = preprocess_df(df_test)"
   ]
  },
  {
   "cell_type": "code",
   "execution_count": null,
   "id": "4b9725c4",
   "metadata": {},
   "outputs": [],
   "source": [
    "df_train_processed[\"day_type\"].unique()"
   ]
  },
  {
   "cell_type": "code",
   "execution_count": null,
   "id": "b150872a",
   "metadata": {},
   "outputs": [],
   "source": [
    "df_train_processed"
   ]
  },
  {
   "cell_type": "markdown",
   "id": "f1eb9b48",
   "metadata": {},
   "source": [
    "### Model Hazırlık"
   ]
  },
  {
   "cell_type": "code",
   "execution_count": null,
   "id": "466eb501",
   "metadata": {},
   "outputs": [],
   "source": [
    "X = df_train_processed.drop(columns=['user_session','session_value'])\n",
    "y = df_train_processed['session_value']"
   ]
  },
  {
   "cell_type": "code",
   "execution_count": null,
   "id": "a5a760b3",
   "metadata": {},
   "outputs": [],
   "source": [
    "X_train, X_val, y_train, y_val = train_test_split(X, y, test_size=0.2, random_state=42)"
   ]
  },
  {
   "cell_type": "code",
   "execution_count": null,
   "id": "d29f7774",
   "metadata": {},
   "outputs": [],
   "source": [
    "# RandomForest hazır parametrelerle\n",
    "rf_model = RandomForestRegressor(\n",
    "    n_estimators=500,          # Ağaç sayısı\n",
    "    max_depth=None,            # Ağaç derinliği sınırsız\n",
    "    min_samples_split=5,       # Her düğümde en az örnek sayısı\n",
    "    min_samples_leaf=2,        # Yaprak başına minimum örnek\n",
    "    max_features='sqrt',       # Her split için rastgele feature sayısı\n",
    "    n_jobs=-1,                 # Tüm CPU çekirdeklerini kullan\n",
    "    random_state=42\n",
    ")"
   ]
  },
  {
   "cell_type": "code",
   "execution_count": null,
   "id": "88844e46",
   "metadata": {},
   "outputs": [],
   "source": [
    "# Modeli eğit\n",
    "rf_model.fit(X_train, y_train)"
   ]
  },
  {
   "cell_type": "code",
   "execution_count": null,
   "id": "ba550426",
   "metadata": {},
   "outputs": [],
   "source": [
    "# Validation tahmini\n",
    "y_pred = rf_model.predict(X_val)"
   ]
  },
  {
   "cell_type": "code",
   "execution_count": null,
   "id": "3d53572b",
   "metadata": {},
   "outputs": [],
   "source": [
    "# Metrikler\n",
    "mse = mean_squared_error(y_val, y_val_pred)\n",
    "rmse = np.sqrt(mse)\n",
    "r2 = r2_score(y_val, y_val_pred)\n",
    "\n",
    "print(f\"MSE: {mse:.4f}\")\n",
    "print(f\"RMSE: {rmse:.4f}\")\n",
    "print(f\"R^2: {r2:.4f}\")"
   ]
  }
 ],
 "metadata": {
  "kernelspec": {
   "display_name": "deepLearning",
   "language": "python",
   "name": "python3"
  },
  "language_info": {
   "codemirror_mode": {
    "name": "ipython",
    "version": 3
   },
   "file_extension": ".py",
   "mimetype": "text/x-python",
   "name": "python",
   "nbconvert_exporter": "python",
   "pygments_lexer": "ipython3",
   "version": "3.12.9"
  }
 },
 "nbformat": 4,
 "nbformat_minor": 5
}
